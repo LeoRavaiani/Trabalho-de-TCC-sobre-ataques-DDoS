{
 "cells": [
  {
   "cell_type": "code",
   "execution_count": 120,
   "id": "e715cf04",
   "metadata": {
    "tags": []
   },
   "outputs": [],
   "source": [
    "# Importações\n",
    "from sklearn.metrics import classification_report, accuracy_score, precision_score, recall_score, f1_score, confusion_matrix, make_scorer\n",
    "from sklearn.utils.class_weight import compute_class_weight\n",
    "from sklearn.model_selection import train_test_split, GridSearchCV\n",
    "from sklearn.neural_network import MLPClassifier\n",
    "from imblearn.over_sampling import SMOTE\n",
    "from IPython.display import display, clear_output\n",
    "from concurrent.futures import ThreadPoolExecutor\n",
    "from sklearn.linear_model import LinearRegression\n",
    "from sklearn.tree import DecisionTreeClassifier\n",
    "from sklearn.svm import SVC\n",
    "from sklearn import datasets\n",
    "from sklearn.pipeline import make_pipeline\n",
    "from sklearn.preprocessing import StandardScaler\n",
    "from sklearn.preprocessing import LabelEncoder\n",
    "from matplotlib.animation import FuncAnimation\n",
    "from IPython.display import display_html\n",
    "from sklearn.tree import export_graphviz\n",
    "from sklearn.utils import resample\n",
    "from mpl_toolkits.mplot3d import Axes3D\n",
    "from sklearn.decomposition import PCA\n",
    "from sklearn.metrics import r2_score\n",
    "from itertools import combinations\n",
    "from sklearn import linear_model\n",
    "from graphviz import Digraph\n",
    "from sklearn import tree\n",
    "from scipy import stats\n",
    "from PyPDF2 import PdfMerger\n",
    "from joblib import dump, load\n",
    "\n",
    "\n",
    "import matplotlib.backends.backend_pdf as pltpdf\n",
    "import matplotlib.dates as mdates\n",
    "import matplotlib.pyplot as plt\n",
    "import dask.dataframe as dd\n",
    "import graphviz as gv\n",
    "import seaborn as sns\n",
    "import pandas as pd\n",
    "import numpy as np\n",
    "import joblib\n",
    "import datetime\n",
    "import graphviz\n",
    "import warnings\n",
    "import os\n",
    "import re\n",
    "import time\n",
    "\n",
    "warnings.filterwarnings(\"ignore\", category=UserWarning, module=\"seaborn\")\n",
    "os.environ[\"PATH\"] += os.pathsep + 'C:\\Program Files\\Graphviz\\bin'"
   ]
  },
  {
   "cell_type": "code",
   "execution_count": 121,
   "id": "429d95cd",
   "metadata": {
    "tags": []
   },
   "outputs": [],
   "source": [
    "# Leitura do arquivo CSV em partes (chunks) para otimização de uso de memória\n",
    "csv_file_path = \"DrDoS_UDP.csv\"\n",
    "# Tamanho do chunk (ajuste conforme necessário)\n",
    "chunk_size = 100000\n",
    "# Lista para armazenar os chunks\n",
    "chunks = []\n",
    "# Iterar sobre o arquivo CSV em chunks e armazenar em uma lista\n",
    "for chunk in pd.read_csv(csv_file_path, chunksize=chunk_size, low_memory=False):\n",
    "    chunks.append(chunk)"
   ]
  },
  {
   "cell_type": "code",
   "execution_count": 122,
   "id": "71c0d604",
   "metadata": {
    "tags": []
   },
   "outputs": [],
   "source": [
    "# Carregue seus dados (substitua 'seus_dados.csv' pelo nome do seu arquivo)\n",
    "dados = pd.concat(chunks, ignore_index=True)"
   ]
  },
  {
   "cell_type": "code",
   "execution_count": 123,
   "id": "556bf8c0",
   "metadata": {
    "tags": []
   },
   "outputs": [],
   "source": [
    "amostra = dados"
   ]
  },
  {
   "cell_type": "code",
   "execution_count": 124,
   "id": "e6ee772d",
   "metadata": {
    "tags": []
   },
   "outputs": [
    {
     "data": {
      "text/html": [
       "<div>\n",
       "<style scoped>\n",
       "    .dataframe tbody tr th:only-of-type {\n",
       "        vertical-align: middle;\n",
       "    }\n",
       "\n",
       "    .dataframe tbody tr th {\n",
       "        vertical-align: top;\n",
       "    }\n",
       "\n",
       "    .dataframe thead th {\n",
       "        text-align: right;\n",
       "    }\n",
       "</style>\n",
       "<table border=\"1\" class=\"dataframe\">\n",
       "  <thead>\n",
       "    <tr style=\"text-align: right;\">\n",
       "      <th></th>\n",
       "      <th>Unnamed: 0</th>\n",
       "      <th>Source Port</th>\n",
       "      <th>Destination Port</th>\n",
       "      <th>Protocol</th>\n",
       "      <th>Flow Duration</th>\n",
       "      <th>Total Fwd Packets</th>\n",
       "      <th>Total Backward Packets</th>\n",
       "      <th>Total Length of Fwd Packets</th>\n",
       "      <th>Total Length of Bwd Packets</th>\n",
       "      <th>Fwd Packet Length Max</th>\n",
       "      <th>...</th>\n",
       "      <th>min_seg_size_forward</th>\n",
       "      <th>Active Mean</th>\n",
       "      <th>Active Std</th>\n",
       "      <th>Active Max</th>\n",
       "      <th>Active Min</th>\n",
       "      <th>Idle Mean</th>\n",
       "      <th>Idle Std</th>\n",
       "      <th>Idle Max</th>\n",
       "      <th>Idle Min</th>\n",
       "      <th>Inbound</th>\n",
       "    </tr>\n",
       "  </thead>\n",
       "  <tbody>\n",
       "    <tr>\n",
       "      <th>count</th>\n",
       "      <td>3.136802e+06</td>\n",
       "      <td>3.136802e+06</td>\n",
       "      <td>3.136802e+06</td>\n",
       "      <td>3.136802e+06</td>\n",
       "      <td>3.136802e+06</td>\n",
       "      <td>3.136802e+06</td>\n",
       "      <td>3.136802e+06</td>\n",
       "      <td>3.136802e+06</td>\n",
       "      <td>3.136802e+06</td>\n",
       "      <td>3.136802e+06</td>\n",
       "      <td>...</td>\n",
       "      <td>3.136802e+06</td>\n",
       "      <td>3.136802e+06</td>\n",
       "      <td>3.136802e+06</td>\n",
       "      <td>3.136802e+06</td>\n",
       "      <td>3.136802e+06</td>\n",
       "      <td>3.136802e+06</td>\n",
       "      <td>3.136802e+06</td>\n",
       "      <td>3.136802e+06</td>\n",
       "      <td>3.136802e+06</td>\n",
       "      <td>3.136802e+06</td>\n",
       "    </tr>\n",
       "    <tr>\n",
       "      <th>mean</th>\n",
       "      <td>6.284729e+04</td>\n",
       "      <td>4.678466e+04</td>\n",
       "      <td>3.326777e+04</td>\n",
       "      <td>1.699073e+01</td>\n",
       "      <td>9.454659e+04</td>\n",
       "      <td>3.769507e+00</td>\n",
       "      <td>5.931838e-03</td>\n",
       "      <td>1.370530e+03</td>\n",
       "      <td>1.257003e+00</td>\n",
       "      <td>3.885615e+02</td>\n",
       "      <td>...</td>\n",
       "      <td>-3.979974e+07</td>\n",
       "      <td>1.441213e+02</td>\n",
       "      <td>5.098763e+01</td>\n",
       "      <td>1.891834e+02</td>\n",
       "      <td>1.061237e+02</td>\n",
       "      <td>2.348633e+03</td>\n",
       "      <td>1.030996e+02</td>\n",
       "      <td>2.454045e+03</td>\n",
       "      <td>2.266851e+03</td>\n",
       "      <td>9.988192e-01</td>\n",
       "    </tr>\n",
       "    <tr>\n",
       "      <th>std</th>\n",
       "      <td>3.640744e+04</td>\n",
       "      <td>8.463285e+03</td>\n",
       "      <td>1.865171e+04</td>\n",
       "      <td>3.255629e-01</td>\n",
       "      <td>6.825386e+05</td>\n",
       "      <td>3.745687e+00</td>\n",
       "      <td>6.018696e-01</td>\n",
       "      <td>1.120631e+03</td>\n",
       "      <td>2.431255e+02</td>\n",
       "      <td>4.950828e+01</td>\n",
       "      <td>...</td>\n",
       "      <td>2.017720e+08</td>\n",
       "      <td>5.206479e+04</td>\n",
       "      <td>3.149175e+04</td>\n",
       "      <td>6.879844e+04</td>\n",
       "      <td>4.339355e+04</td>\n",
       "      <td>3.168890e+05</td>\n",
       "      <td>3.667490e+04</td>\n",
       "      <td>3.264913e+05</td>\n",
       "      <td>3.117682e+05</td>\n",
       "      <td>3.434278e-02</td>\n",
       "    </tr>\n",
       "    <tr>\n",
       "      <th>min</th>\n",
       "      <td>0.000000e+00</td>\n",
       "      <td>0.000000e+00</td>\n",
       "      <td>0.000000e+00</td>\n",
       "      <td>0.000000e+00</td>\n",
       "      <td>0.000000e+00</td>\n",
       "      <td>1.000000e+00</td>\n",
       "      <td>0.000000e+00</td>\n",
       "      <td>0.000000e+00</td>\n",
       "      <td>0.000000e+00</td>\n",
       "      <td>0.000000e+00</td>\n",
       "      <td>...</td>\n",
       "      <td>-1.062719e+09</td>\n",
       "      <td>0.000000e+00</td>\n",
       "      <td>0.000000e+00</td>\n",
       "      <td>0.000000e+00</td>\n",
       "      <td>0.000000e+00</td>\n",
       "      <td>0.000000e+00</td>\n",
       "      <td>0.000000e+00</td>\n",
       "      <td>0.000000e+00</td>\n",
       "      <td>0.000000e+00</td>\n",
       "      <td>0.000000e+00</td>\n",
       "    </tr>\n",
       "    <tr>\n",
       "      <th>25%</th>\n",
       "      <td>3.136800e+04</td>\n",
       "      <td>3.980600e+04</td>\n",
       "      <td>1.715900e+04</td>\n",
       "      <td>1.700000e+01</td>\n",
       "      <td>1.000000e+00</td>\n",
       "      <td>2.000000e+00</td>\n",
       "      <td>0.000000e+00</td>\n",
       "      <td>7.660000e+02</td>\n",
       "      <td>0.000000e+00</td>\n",
       "      <td>3.750000e+02</td>\n",
       "      <td>...</td>\n",
       "      <td>0.000000e+00</td>\n",
       "      <td>0.000000e+00</td>\n",
       "      <td>0.000000e+00</td>\n",
       "      <td>0.000000e+00</td>\n",
       "      <td>0.000000e+00</td>\n",
       "      <td>0.000000e+00</td>\n",
       "      <td>0.000000e+00</td>\n",
       "      <td>0.000000e+00</td>\n",
       "      <td>0.000000e+00</td>\n",
       "      <td>1.000000e+00</td>\n",
       "    </tr>\n",
       "    <tr>\n",
       "      <th>50%</th>\n",
       "      <td>6.273600e+04</td>\n",
       "      <td>4.689400e+04</td>\n",
       "      <td>3.329400e+04</td>\n",
       "      <td>1.700000e+01</td>\n",
       "      <td>1.320000e+02</td>\n",
       "      <td>4.000000e+00</td>\n",
       "      <td>0.000000e+00</td>\n",
       "      <td>1.398000e+03</td>\n",
       "      <td>0.000000e+00</td>\n",
       "      <td>3.890000e+02</td>\n",
       "      <td>...</td>\n",
       "      <td>2.000000e+01</td>\n",
       "      <td>0.000000e+00</td>\n",
       "      <td>0.000000e+00</td>\n",
       "      <td>0.000000e+00</td>\n",
       "      <td>0.000000e+00</td>\n",
       "      <td>0.000000e+00</td>\n",
       "      <td>0.000000e+00</td>\n",
       "      <td>0.000000e+00</td>\n",
       "      <td>0.000000e+00</td>\n",
       "      <td>1.000000e+00</td>\n",
       "    </tr>\n",
       "    <tr>\n",
       "      <th>75%</th>\n",
       "      <td>9.410400e+04</td>\n",
       "      <td>5.389600e+04</td>\n",
       "      <td>4.942600e+04</td>\n",
       "      <td>1.700000e+01</td>\n",
       "      <td>1.088440e+05</td>\n",
       "      <td>4.000000e+00</td>\n",
       "      <td>0.000000e+00</td>\n",
       "      <td>1.438000e+03</td>\n",
       "      <td>0.000000e+00</td>\n",
       "      <td>3.930000e+02</td>\n",
       "      <td>...</td>\n",
       "      <td>2.000000e+01</td>\n",
       "      <td>0.000000e+00</td>\n",
       "      <td>0.000000e+00</td>\n",
       "      <td>0.000000e+00</td>\n",
       "      <td>0.000000e+00</td>\n",
       "      <td>0.000000e+00</td>\n",
       "      <td>0.000000e+00</td>\n",
       "      <td>0.000000e+00</td>\n",
       "      <td>0.000000e+00</td>\n",
       "      <td>1.000000e+00</td>\n",
       "    </tr>\n",
       "    <tr>\n",
       "      <th>max</th>\n",
       "      <td>1.325940e+05</td>\n",
       "      <td>6.553100e+04</td>\n",
       "      <td>6.553500e+04</td>\n",
       "      <td>1.700000e+01</td>\n",
       "      <td>1.200000e+08</td>\n",
       "      <td>2.232000e+03</td>\n",
       "      <td>3.610000e+02</td>\n",
       "      <td>5.907600e+04</td>\n",
       "      <td>2.057900e+05</td>\n",
       "      <td>3.547000e+03</td>\n",
       "      <td>...</td>\n",
       "      <td>1.472000e+03</td>\n",
       "      <td>6.151289e+07</td>\n",
       "      <td>4.868047e+07</td>\n",
       "      <td>7.286843e+07</td>\n",
       "      <td>6.151289e+07</td>\n",
       "      <td>1.166865e+08</td>\n",
       "      <td>3.551041e+07</td>\n",
       "      <td>1.166865e+08</td>\n",
       "      <td>1.166865e+08</td>\n",
       "      <td>1.000000e+00</td>\n",
       "    </tr>\n",
       "  </tbody>\n",
       "</table>\n",
       "<p>8 rows × 82 columns</p>\n",
       "</div>"
      ],
      "text/plain": [
       "         Unnamed: 0   Source Port  Destination Port      Protocol  \\\n",
       "count  3.136802e+06  3.136802e+06      3.136802e+06  3.136802e+06   \n",
       "mean   6.284729e+04  4.678466e+04      3.326777e+04  1.699073e+01   \n",
       "std    3.640744e+04  8.463285e+03      1.865171e+04  3.255629e-01   \n",
       "min    0.000000e+00  0.000000e+00      0.000000e+00  0.000000e+00   \n",
       "25%    3.136800e+04  3.980600e+04      1.715900e+04  1.700000e+01   \n",
       "50%    6.273600e+04  4.689400e+04      3.329400e+04  1.700000e+01   \n",
       "75%    9.410400e+04  5.389600e+04      4.942600e+04  1.700000e+01   \n",
       "max    1.325940e+05  6.553100e+04      6.553500e+04  1.700000e+01   \n",
       "\n",
       "       Flow Duration  Total Fwd Packets  Total Backward Packets  \\\n",
       "count   3.136802e+06       3.136802e+06            3.136802e+06   \n",
       "mean    9.454659e+04       3.769507e+00            5.931838e-03   \n",
       "std     6.825386e+05       3.745687e+00            6.018696e-01   \n",
       "min     0.000000e+00       1.000000e+00            0.000000e+00   \n",
       "25%     1.000000e+00       2.000000e+00            0.000000e+00   \n",
       "50%     1.320000e+02       4.000000e+00            0.000000e+00   \n",
       "75%     1.088440e+05       4.000000e+00            0.000000e+00   \n",
       "max     1.200000e+08       2.232000e+03            3.610000e+02   \n",
       "\n",
       "       Total Length of Fwd Packets  Total Length of Bwd Packets  \\\n",
       "count                 3.136802e+06                 3.136802e+06   \n",
       "mean                  1.370530e+03                 1.257003e+00   \n",
       "std                   1.120631e+03                 2.431255e+02   \n",
       "min                   0.000000e+00                 0.000000e+00   \n",
       "25%                   7.660000e+02                 0.000000e+00   \n",
       "50%                   1.398000e+03                 0.000000e+00   \n",
       "75%                   1.438000e+03                 0.000000e+00   \n",
       "max                   5.907600e+04                 2.057900e+05   \n",
       "\n",
       "       Fwd Packet Length Max  ...  min_seg_size_forward   Active Mean  \\\n",
       "count           3.136802e+06  ...          3.136802e+06  3.136802e+06   \n",
       "mean            3.885615e+02  ...         -3.979974e+07  1.441213e+02   \n",
       "std             4.950828e+01  ...          2.017720e+08  5.206479e+04   \n",
       "min             0.000000e+00  ...         -1.062719e+09  0.000000e+00   \n",
       "25%             3.750000e+02  ...          0.000000e+00  0.000000e+00   \n",
       "50%             3.890000e+02  ...          2.000000e+01  0.000000e+00   \n",
       "75%             3.930000e+02  ...          2.000000e+01  0.000000e+00   \n",
       "max             3.547000e+03  ...          1.472000e+03  6.151289e+07   \n",
       "\n",
       "         Active Std    Active Max    Active Min     Idle Mean      Idle Std  \\\n",
       "count  3.136802e+06  3.136802e+06  3.136802e+06  3.136802e+06  3.136802e+06   \n",
       "mean   5.098763e+01  1.891834e+02  1.061237e+02  2.348633e+03  1.030996e+02   \n",
       "std    3.149175e+04  6.879844e+04  4.339355e+04  3.168890e+05  3.667490e+04   \n",
       "min    0.000000e+00  0.000000e+00  0.000000e+00  0.000000e+00  0.000000e+00   \n",
       "25%    0.000000e+00  0.000000e+00  0.000000e+00  0.000000e+00  0.000000e+00   \n",
       "50%    0.000000e+00  0.000000e+00  0.000000e+00  0.000000e+00  0.000000e+00   \n",
       "75%    0.000000e+00  0.000000e+00  0.000000e+00  0.000000e+00  0.000000e+00   \n",
       "max    4.868047e+07  7.286843e+07  6.151289e+07  1.166865e+08  3.551041e+07   \n",
       "\n",
       "           Idle Max      Idle Min       Inbound  \n",
       "count  3.136802e+06  3.136802e+06  3.136802e+06  \n",
       "mean   2.454045e+03  2.266851e+03  9.988192e-01  \n",
       "std    3.264913e+05  3.117682e+05  3.434278e-02  \n",
       "min    0.000000e+00  0.000000e+00  0.000000e+00  \n",
       "25%    0.000000e+00  0.000000e+00  1.000000e+00  \n",
       "50%    0.000000e+00  0.000000e+00  1.000000e+00  \n",
       "75%    0.000000e+00  0.000000e+00  1.000000e+00  \n",
       "max    1.166865e+08  1.166865e+08  1.000000e+00  \n",
       "\n",
       "[8 rows x 82 columns]"
      ]
     },
     "metadata": {},
     "output_type": "display_data"
    },
    {
     "name": "stdout",
     "output_type": "stream",
     "text": [
      "Index(['Unnamed: 0', 'Flow ID', 'Source IP', 'Source Port', 'Destination IP',\n",
      "       'Destination Port', 'Protocol', 'Timestamp', 'Flow Duration',\n",
      "       'Total Fwd Packets', 'Total Backward Packets',\n",
      "       'Total Length of Fwd Packets', 'Total Length of Bwd Packets',\n",
      "       'Fwd Packet Length Max', 'Fwd Packet Length Min',\n",
      "       'Fwd Packet Length Mean', 'Fwd Packet Length Std',\n",
      "       'Bwd Packet Length Max', 'Bwd Packet Length Min',\n",
      "       'Bwd Packet Length Mean', 'Bwd Packet Length Std', 'Flow Bytes/s',\n",
      "       'Flow Packets/s', 'Flow IAT Mean', 'Flow IAT Std', 'Flow IAT Max',\n",
      "       'Flow IAT Min', 'Fwd IAT Total', 'Fwd IAT Mean', 'Fwd IAT Std',\n",
      "       'Fwd IAT Max', 'Fwd IAT Min', 'Bwd IAT Total', 'Bwd IAT Mean',\n",
      "       'Bwd IAT Std', 'Bwd IAT Max', 'Bwd IAT Min', 'Fwd PSH Flags',\n",
      "       'Bwd PSH Flags', 'Fwd URG Flags', 'Bwd URG Flags', 'Fwd Header Length',\n",
      "       'Bwd Header Length', 'Fwd Packets/s', 'Bwd Packets/s',\n",
      "       'Min Packet Length', 'Max Packet Length', 'Packet Length Mean',\n",
      "       'Packet Length Std', 'Packet Length Variance', 'FIN Flag Count',\n",
      "       'SYN Flag Count', 'RST Flag Count', 'PSH Flag Count', 'ACK Flag Count',\n",
      "       'URG Flag Count', 'CWE Flag Count', 'ECE Flag Count', 'Down/Up Ratio',\n",
      "       'Average Packet Size', 'Avg Fwd Segment Size', 'Avg Bwd Segment Size',\n",
      "       'Fwd Header Length.1', 'Fwd Avg Bytes/Bulk', 'Fwd Avg Packets/Bulk',\n",
      "       'Fwd Avg Bulk Rate', 'Bwd Avg Bytes/Bulk', 'Bwd Avg Packets/Bulk',\n",
      "       'Bwd Avg Bulk Rate', 'Subflow Fwd Packets', 'Subflow Fwd Bytes',\n",
      "       'Subflow Bwd Packets', 'Subflow Bwd Bytes', 'Init_Win_bytes_forward',\n",
      "       'Init_Win_bytes_backward', 'act_data_pkt_fwd', 'min_seg_size_forward',\n",
      "       'Active Mean', 'Active Std', 'Active Max', 'Active Min', 'Idle Mean',\n",
      "       'Idle Std', 'Idle Max', 'Idle Min', 'SimillarHTTP', 'Inbound', 'Label'],\n",
      "      dtype='object')\n"
     ]
    }
   ],
   "source": [
    "dados.columns = dados.columns.str.strip()\n",
    "display(dados.describe())\n",
    "print(dados.columns)"
   ]
  },
  {
   "cell_type": "code",
   "execution_count": 125,
   "id": "e87fe5ef",
   "metadata": {
    "tags": []
   },
   "outputs": [],
   "source": [
    "dados_tr = amostra\n",
    "dados_tr.reset_index(drop=True, inplace=True)"
   ]
  },
  {
   "cell_type": "code",
   "execution_count": 126,
   "id": "9bfa7cc9-b84f-4200-88ec-682d37fc6735",
   "metadata": {
    "tags": []
   },
   "outputs": [],
   "source": [
    "#amostra2 = dados[dados['Label'].str.contains('BENIGN')]\n",
    "## Concatenar amostra e amostra2\n",
    "#dados_tr = pd.concat([amostra, amostra2])\n",
    "\n",
    "# Redefinir o índice do DataFrame concatenado\n",
    "#dados_tr.reset_index(drop=True, inplace=True)"
   ]
  },
  {
   "cell_type": "code",
   "execution_count": 127,
   "id": "edb87096",
   "metadata": {
    "tags": []
   },
   "outputs": [
    {
     "name": "stdout",
     "output_type": "stream",
     "text": [
      "Primeiro horario do ataque: 2018-12-01 12:36:57.628026\n",
      "Ultimo horario do ataque: 2018-12-01 13:04:45.928382\n",
      "Colunas Selecionadas:\n",
      "Index(['Fwd Packet Length Mean', 'Fwd IAT Mean', 'min_seg_size_forward',\n",
      "       'Destination Port', 'Protocol', 'Timestamp', 'Label'],\n",
      "      dtype='object')\n",
      "\n",
      "\n"
     ]
    },
    {
     "data": {
      "text/html": [
       "<div>\n",
       "<style scoped>\n",
       "    .dataframe tbody tr th:only-of-type {\n",
       "        vertical-align: middle;\n",
       "    }\n",
       "\n",
       "    .dataframe tbody tr th {\n",
       "        vertical-align: top;\n",
       "    }\n",
       "\n",
       "    .dataframe thead th {\n",
       "        text-align: right;\n",
       "    }\n",
       "</style>\n",
       "<table border=\"1\" class=\"dataframe\">\n",
       "  <thead>\n",
       "    <tr style=\"text-align: right;\">\n",
       "      <th></th>\n",
       "      <th>Fwd Packet Length Mean</th>\n",
       "      <th>Fwd IAT Mean</th>\n",
       "      <th>min_seg_size_forward</th>\n",
       "      <th>Destination Port</th>\n",
       "      <th>Protocol</th>\n",
       "      <th>Timestamp</th>\n",
       "      <th>Label</th>\n",
       "    </tr>\n",
       "  </thead>\n",
       "  <tbody>\n",
       "    <tr>\n",
       "      <th>0</th>\n",
       "      <td>348.0</td>\n",
       "      <td>43679.000000</td>\n",
       "      <td>-1</td>\n",
       "      <td>6652</td>\n",
       "      <td>17</td>\n",
       "      <td>2018-12-01 12:36:57.628026</td>\n",
       "      <td>DrDoS_UDP</td>\n",
       "    </tr>\n",
       "    <tr>\n",
       "      <th>1</th>\n",
       "      <td>349.5</td>\n",
       "      <td>36073.000000</td>\n",
       "      <td>-1</td>\n",
       "      <td>9712</td>\n",
       "      <td>17</td>\n",
       "      <td>2018-12-01 12:36:57.628076</td>\n",
       "      <td>DrDoS_UDP</td>\n",
       "    </tr>\n",
       "    <tr>\n",
       "      <th>2</th>\n",
       "      <td>359.5</td>\n",
       "      <td>34859.666667</td>\n",
       "      <td>-1</td>\n",
       "      <td>4680</td>\n",
       "      <td>17</td>\n",
       "      <td>2018-12-01 12:36:57.628164</td>\n",
       "      <td>DrDoS_UDP</td>\n",
       "    </tr>\n",
       "    <tr>\n",
       "      <th>3</th>\n",
       "      <td>386.0</td>\n",
       "      <td>36989.000000</td>\n",
       "      <td>-1</td>\n",
       "      <td>2644</td>\n",
       "      <td>17</td>\n",
       "      <td>2018-12-01 12:36:57.628166</td>\n",
       "      <td>DrDoS_UDP</td>\n",
       "    </tr>\n",
       "    <tr>\n",
       "      <th>4</th>\n",
       "      <td>383.0</td>\n",
       "      <td>1.000000</td>\n",
       "      <td>-1</td>\n",
       "      <td>16901</td>\n",
       "      <td>17</td>\n",
       "      <td>2018-12-01 12:36:57.628217</td>\n",
       "      <td>DrDoS_UDP</td>\n",
       "    </tr>\n",
       "    <tr>\n",
       "      <th>...</th>\n",
       "      <td>...</td>\n",
       "      <td>...</td>\n",
       "      <td>...</td>\n",
       "      <td>...</td>\n",
       "      <td>...</td>\n",
       "      <td>...</td>\n",
       "      <td>...</td>\n",
       "    </tr>\n",
       "    <tr>\n",
       "      <th>3136797</th>\n",
       "      <td>401.0</td>\n",
       "      <td>2.000000</td>\n",
       "      <td>20</td>\n",
       "      <td>6479</td>\n",
       "      <td>17</td>\n",
       "      <td>2018-12-01 13:04:45.928050</td>\n",
       "      <td>DrDoS_UDP</td>\n",
       "    </tr>\n",
       "    <tr>\n",
       "      <th>3136798</th>\n",
       "      <td>401.0</td>\n",
       "      <td>1.000000</td>\n",
       "      <td>20</td>\n",
       "      <td>33462</td>\n",
       "      <td>17</td>\n",
       "      <td>2018-12-01 13:04:45.928055</td>\n",
       "      <td>DrDoS_UDP</td>\n",
       "    </tr>\n",
       "    <tr>\n",
       "      <th>3136799</th>\n",
       "      <td>321.0</td>\n",
       "      <td>2.000000</td>\n",
       "      <td>20</td>\n",
       "      <td>22593</td>\n",
       "      <td>17</td>\n",
       "      <td>2018-12-01 13:04:45.928173</td>\n",
       "      <td>DrDoS_UDP</td>\n",
       "    </tr>\n",
       "    <tr>\n",
       "      <th>3136800</th>\n",
       "      <td>375.0</td>\n",
       "      <td>2.000000</td>\n",
       "      <td>20</td>\n",
       "      <td>46618</td>\n",
       "      <td>17</td>\n",
       "      <td>2018-12-01 13:04:45.928225</td>\n",
       "      <td>DrDoS_UDP</td>\n",
       "    </tr>\n",
       "    <tr>\n",
       "      <th>3136801</th>\n",
       "      <td>375.0</td>\n",
       "      <td>1.000000</td>\n",
       "      <td>20</td>\n",
       "      <td>65428</td>\n",
       "      <td>17</td>\n",
       "      <td>2018-12-01 13:04:45.928382</td>\n",
       "      <td>DrDoS_UDP</td>\n",
       "    </tr>\n",
       "  </tbody>\n",
       "</table>\n",
       "<p>3136802 rows × 7 columns</p>\n",
       "</div>"
      ],
      "text/plain": [
       "         Fwd Packet Length Mean  Fwd IAT Mean  min_seg_size_forward  \\\n",
       "0                         348.0  43679.000000                    -1   \n",
       "1                         349.5  36073.000000                    -1   \n",
       "2                         359.5  34859.666667                    -1   \n",
       "3                         386.0  36989.000000                    -1   \n",
       "4                         383.0      1.000000                    -1   \n",
       "...                         ...           ...                   ...   \n",
       "3136797                   401.0      2.000000                    20   \n",
       "3136798                   401.0      1.000000                    20   \n",
       "3136799                   321.0      2.000000                    20   \n",
       "3136800                   375.0      2.000000                    20   \n",
       "3136801                   375.0      1.000000                    20   \n",
       "\n",
       "         Destination Port  Protocol                   Timestamp      Label  \n",
       "0                    6652        17  2018-12-01 12:36:57.628026  DrDoS_UDP  \n",
       "1                    9712        17  2018-12-01 12:36:57.628076  DrDoS_UDP  \n",
       "2                    4680        17  2018-12-01 12:36:57.628164  DrDoS_UDP  \n",
       "3                    2644        17  2018-12-01 12:36:57.628166  DrDoS_UDP  \n",
       "4                   16901        17  2018-12-01 12:36:57.628217  DrDoS_UDP  \n",
       "...                   ...       ...                         ...        ...  \n",
       "3136797              6479        17  2018-12-01 13:04:45.928050  DrDoS_UDP  \n",
       "3136798             33462        17  2018-12-01 13:04:45.928055  DrDoS_UDP  \n",
       "3136799             22593        17  2018-12-01 13:04:45.928173  DrDoS_UDP  \n",
       "3136800             46618        17  2018-12-01 13:04:45.928225  DrDoS_UDP  \n",
       "3136801             65428        17  2018-12-01 13:04:45.928382  DrDoS_UDP  \n",
       "\n",
       "[3136802 rows x 7 columns]"
      ]
     },
     "metadata": {},
     "output_type": "display_data"
    }
   ],
   "source": [
    "# Lista das colunas a serem selecionadas\n",
    "#colunas_selecionadas = ['Fwd Packet Length Std', 'Packet Length Std', 'Fwd IAT Mean', 'min_seg_size_forward',\n",
    "#                        'Fwd IAT Max', 'Destination Port', 'Fwd Packet Length Max', 'Fwd Packet Length Mean',\n",
    "#                        'Fwd Packet Length Min', 'Protocol', 'Timestamp', 'Label']\n",
    "\n",
    "# Lista das colunas a serem selecionadas\n",
    "colunas_selecionadas = ['Fwd Packet Length Mean', 'Fwd IAT Mean', 'min_seg_size_forward', 'Destination Port', 'Protocol', 'Timestamp', 'Label']\n",
    "\n",
    "# Remova espaços em branco dos nomes das colunas\n",
    "dados_tr.columns = dados_tr.columns.str.strip()\n",
    "\n",
    "# Encontrando o primeiro e o último horário\n",
    "primeiro_horario = dados_tr['Timestamp'].min()\n",
    "ultimo_horario = dados_tr['Timestamp'].max()\n",
    "\n",
    "print(f\"Primeiro horario do ataque: {primeiro_horario}\")\n",
    "print(f\"Ultimo horario do ataque: {ultimo_horario}\")\n",
    "\n",
    "\n",
    "# Verifique se todas as colunas selecionadas estão no DataFrame\n",
    "if set(colunas_selecionadas).issubset(dados_tr.columns):\n",
    "    # Selecionar apenas as colunas desejadas\n",
    "    df_dados = dados_tr[colunas_selecionadas]\n",
    "    # Remover colunas duplicadas\n",
    "    df_dados = df_dados.loc[:,~df_dados.columns.duplicated()]\n",
    "    df_dados = df_dados.dropna()\n",
    "\n",
    "    # Mostrar todas as colunas disponíveis no novo DataFrame\n",
    "    print(\"Colunas Selecionadas:\")\n",
    "    print(df_dados.columns)\n",
    "    print(\"\\n\")\n",
    "    display(df_dados)\n",
    "else:\n",
    "    print(dados_tr.columns)\n",
    "    print(dados_tr)\n",
    "    print(\"Nomes das colunas selecionadas não correspondem às colunas no DataFrame.\")"
   ]
  },
  {
   "cell_type": "markdown",
   "id": "607cfe9a",
   "metadata": {},
   "source": [
    "# Classifier comparison"
   ]
  },
  {
   "cell_type": "code",
   "execution_count": 128,
   "id": "be2cde90",
   "metadata": {
    "tags": []
   },
   "outputs": [],
   "source": [
    "# Converta a coluna 'Timestamp' para objetos datetime\n",
    "df_dados['Timestamp'] = pd.to_datetime(df_dados['Timestamp'])\n",
    "\n",
    "# Calcule o número de segundos desde a época Unix\n",
    "df_dados['Timestamp_seconds'] = (df_dados['Timestamp'] - pd.Timestamp(\"1970-01-01\")) // pd.Timedelta(seconds=1)\n",
    "\n",
    "# Preparar os dados\n",
    "X = df_dados.drop(['Label', 'Timestamp', 'Timestamp_seconds'], axis=1)  # Remova também a coluna 'Timestamp_seconds'\n",
    "y = df_dados['Label']\n",
    "\n",
    "# Dividir os dados em treino e teste\n",
    "X_train, X_test, y_train, y_test = train_test_split(X, y, test_size=0.25, random_state=42)\n",
    "\n",
    "# Combinar X_train e y_train para facilitar a subamostragem\n",
    "# train_data = pd.concat([X_train, y_train], axis=1)\n",
    "\n",
    "# Separar as classes no conjunto de treinamento\n",
    "# majority_class = train_data[train_data['Label'] == 'DrDoS_UDP']\n",
    "# minority_class = train_data[train_data['Label'] == 'BENIGN']\n",
    "\n",
    "# Definir a proporção desejada\n",
    "# proporcao_majoritaria = 0.2  # 20% do tamanho da classe minoritária\n",
    "\n",
    "# Calcular o número de amostras da classe majoritária baseado na proporção desejada\n",
    "# n_amostras_majoritaria = int(len(minority_class) * proporcao_majoritaria)\n",
    "\n",
    "# Subamostrar a classe majoritária no conjunto de treinamento\n",
    "# majority_class_downsampled = resample(majority_class, \n",
    "                                      # replace=False,    # amostragem sem reposição\n",
    "                                      # n_samples=n_amostras_majoritaria,  # número calculado de amostras\n",
    "                                      # random_state=42)  # para reprodutibilidade\n",
    "\n",
    "# Combine as classes minoritária e majoritária subamostrada no conjunto de treinamento\n",
    "# train_data_balanced = pd.concat([minority_class, majority_class_downsampled])\n",
    "\n",
    "# Separar em X e y no conjunto de treinamento balanceado\n",
    "# X_train_balanced = train_data_balanced.drop('Label', axis=1)\n",
    "# y_train_balanced = train_data_balanced['Label']"
   ]
  },
  {
   "cell_type": "code",
   "execution_count": 129,
   "id": "13506c29-830e-4aba-925c-33462507cc0d",
   "metadata": {
    "tags": []
   },
   "outputs": [
    {
     "name": "stdout",
     "output_type": "stream",
     "text": [
      "Primeiro horario do ataque: 2018-12-01 12:36:57.628026\n",
      "Ultimo horario do ataque: 2018-12-01 13:04:45.928382\n"
     ]
    }
   ],
   "source": [
    "# Encontrando o primeiro e o último horário\n",
    "primeiro_horario = df_dados['Timestamp'].min()\n",
    "ultimo_horario = df_dados['Timestamp'].max()\n",
    "\n",
    "print(f\"Primeiro horario do ataque: {primeiro_horario}\")\n",
    "print(f\"Ultimo horario do ataque: {ultimo_horario}\")"
   ]
  },
  {
   "cell_type": "code",
   "execution_count": 130,
   "id": "61ca83cc-e07c-4d91-b8b2-7eb1bd652680",
   "metadata": {
    "tags": []
   },
   "outputs": [],
   "source": [
    "# Criar um pipeline que primeiro escala os dados e depois aplica o MLPClassifier\n",
    "#mlp = make_pipeline(StandardScaler(), MLPClassifier(max_iter=1000, random_state=42))"
   ]
  },
  {
   "cell_type": "code",
   "execution_count": 131,
   "id": "3bfb3d1a-b265-4886-92fb-af21d687a2a7",
   "metadata": {
    "tags": []
   },
   "outputs": [],
   "source": [
    "# Criar uma instância do GridSearchCV\n",
    "# scorer = make_scorer(recall_score, pos_label=0)  # Aqui focamos no recall da classe 0 (fluxo benigno)\n",
    "# grid_search = GridSearchCV(mlp, param_grid, cv=3, scoring=scorer, n_jobs=-1)"
   ]
  },
  {
   "cell_type": "code",
   "execution_count": 132,
   "id": "ea605a04-94d8-4520-947b-1c0d0ff745ff",
   "metadata": {
    "tags": []
   },
   "outputs": [],
   "source": [
    "# Criar uma instância do GridSearchCV\n",
    "#grid_search = GridSearchCV(mlp, param_grid, cv=3, scoring='accuracy')"
   ]
  },
  {
   "cell_type": "code",
   "execution_count": 133,
   "id": "9279dfc7-001c-4d09-b930-d408679fd057",
   "metadata": {
    "tags": []
   },
   "outputs": [],
   "source": [
    "# Treinar o modelo com a busca em grade\n",
    "#grid_search.fit(X_train, y_train)"
   ]
  },
  {
   "cell_type": "code",
   "execution_count": 134,
   "id": "a8230227-d284-461f-8554-02fd25eded94",
   "metadata": {
    "tags": []
   },
   "outputs": [],
   "source": [
    "# Melhor conjunto de parâmetros encontrados\n",
    "# best_params = grid_search.best_params_\n",
    "# print(f'Melhores parâmetros: {best_params}')"
   ]
  },
  {
   "cell_type": "code",
   "execution_count": 135,
   "id": "9be74322-fb0e-49fa-8a94-85e9777067f4",
   "metadata": {
    "tags": []
   },
   "outputs": [
    {
     "data": {
      "text/html": [
       "<style>#sk-container-id-6 {color: black;background-color: white;}#sk-container-id-6 pre{padding: 0;}#sk-container-id-6 div.sk-toggleable {background-color: white;}#sk-container-id-6 label.sk-toggleable__label {cursor: pointer;display: block;width: 100%;margin-bottom: 0;padding: 0.3em;box-sizing: border-box;text-align: center;}#sk-container-id-6 label.sk-toggleable__label-arrow:before {content: \"▸\";float: left;margin-right: 0.25em;color: #696969;}#sk-container-id-6 label.sk-toggleable__label-arrow:hover:before {color: black;}#sk-container-id-6 div.sk-estimator:hover label.sk-toggleable__label-arrow:before {color: black;}#sk-container-id-6 div.sk-toggleable__content {max-height: 0;max-width: 0;overflow: hidden;text-align: left;background-color: #f0f8ff;}#sk-container-id-6 div.sk-toggleable__content pre {margin: 0.2em;color: black;border-radius: 0.25em;background-color: #f0f8ff;}#sk-container-id-6 input.sk-toggleable__control:checked~div.sk-toggleable__content {max-height: 200px;max-width: 100%;overflow: auto;}#sk-container-id-6 input.sk-toggleable__control:checked~label.sk-toggleable__label-arrow:before {content: \"▾\";}#sk-container-id-6 div.sk-estimator input.sk-toggleable__control:checked~label.sk-toggleable__label {background-color: #d4ebff;}#sk-container-id-6 div.sk-label input.sk-toggleable__control:checked~label.sk-toggleable__label {background-color: #d4ebff;}#sk-container-id-6 input.sk-hidden--visually {border: 0;clip: rect(1px 1px 1px 1px);clip: rect(1px, 1px, 1px, 1px);height: 1px;margin: -1px;overflow: hidden;padding: 0;position: absolute;width: 1px;}#sk-container-id-6 div.sk-estimator {font-family: monospace;background-color: #f0f8ff;border: 1px dotted black;border-radius: 0.25em;box-sizing: border-box;margin-bottom: 0.5em;}#sk-container-id-6 div.sk-estimator:hover {background-color: #d4ebff;}#sk-container-id-6 div.sk-parallel-item::after {content: \"\";width: 100%;border-bottom: 1px solid gray;flex-grow: 1;}#sk-container-id-6 div.sk-label:hover label.sk-toggleable__label {background-color: #d4ebff;}#sk-container-id-6 div.sk-serial::before {content: \"\";position: absolute;border-left: 1px solid gray;box-sizing: border-box;top: 0;bottom: 0;left: 50%;z-index: 0;}#sk-container-id-6 div.sk-serial {display: flex;flex-direction: column;align-items: center;background-color: white;padding-right: 0.2em;padding-left: 0.2em;position: relative;}#sk-container-id-6 div.sk-item {position: relative;z-index: 1;}#sk-container-id-6 div.sk-parallel {display: flex;align-items: stretch;justify-content: center;background-color: white;position: relative;}#sk-container-id-6 div.sk-item::before, #sk-container-id-6 div.sk-parallel-item::before {content: \"\";position: absolute;border-left: 1px solid gray;box-sizing: border-box;top: 0;bottom: 0;left: 50%;z-index: -1;}#sk-container-id-6 div.sk-parallel-item {display: flex;flex-direction: column;z-index: 1;position: relative;background-color: white;}#sk-container-id-6 div.sk-parallel-item:first-child::after {align-self: flex-end;width: 50%;}#sk-container-id-6 div.sk-parallel-item:last-child::after {align-self: flex-start;width: 50%;}#sk-container-id-6 div.sk-parallel-item:only-child::after {width: 0;}#sk-container-id-6 div.sk-dashed-wrapped {border: 1px dashed gray;margin: 0 0.4em 0.5em 0.4em;box-sizing: border-box;padding-bottom: 0.4em;background-color: white;}#sk-container-id-6 div.sk-label label {font-family: monospace;font-weight: bold;display: inline-block;line-height: 1.2em;}#sk-container-id-6 div.sk-label-container {text-align: center;}#sk-container-id-6 div.sk-container {/* jupyter's `normalize.less` sets `[hidden] { display: none; }` but bootstrap.min.css set `[hidden] { display: none !important; }` so we also need the `!important` here to be able to override the default hidden behavior on the sphinx rendered scikit-learn.org. See: https://github.com/scikit-learn/scikit-learn/issues/21755 */display: inline-block !important;position: relative;}#sk-container-id-6 div.sk-text-repr-fallback {display: none;}</style><div id=\"sk-container-id-6\" class=\"sk-top-container\"><div class=\"sk-text-repr-fallback\"><pre>Pipeline(steps=[(&#x27;standardscaler&#x27;, StandardScaler()),\n",
       "                (&#x27;mlpclassifier&#x27;,\n",
       "                 MLPClassifier(alpha=0.01, early_stopping=True,\n",
       "                               learning_rate_init=0.01, max_iter=1000,\n",
       "                               random_state=42))])</pre><b>In a Jupyter environment, please rerun this cell to show the HTML representation or trust the notebook. <br />On GitHub, the HTML representation is unable to render, please try loading this page with nbviewer.org.</b></div><div class=\"sk-container\" hidden><div class=\"sk-item sk-dashed-wrapped\"><div class=\"sk-label-container\"><div class=\"sk-label sk-toggleable\"><input class=\"sk-toggleable__control sk-hidden--visually\" id=\"sk-estimator-id-16\" type=\"checkbox\" ><label for=\"sk-estimator-id-16\" class=\"sk-toggleable__label sk-toggleable__label-arrow\">Pipeline</label><div class=\"sk-toggleable__content\"><pre>Pipeline(steps=[(&#x27;standardscaler&#x27;, StandardScaler()),\n",
       "                (&#x27;mlpclassifier&#x27;,\n",
       "                 MLPClassifier(alpha=0.01, early_stopping=True,\n",
       "                               learning_rate_init=0.01, max_iter=1000,\n",
       "                               random_state=42))])</pre></div></div></div><div class=\"sk-serial\"><div class=\"sk-item\"><div class=\"sk-estimator sk-toggleable\"><input class=\"sk-toggleable__control sk-hidden--visually\" id=\"sk-estimator-id-17\" type=\"checkbox\" ><label for=\"sk-estimator-id-17\" class=\"sk-toggleable__label sk-toggleable__label-arrow\">StandardScaler</label><div class=\"sk-toggleable__content\"><pre>StandardScaler()</pre></div></div></div><div class=\"sk-item\"><div class=\"sk-estimator sk-toggleable\"><input class=\"sk-toggleable__control sk-hidden--visually\" id=\"sk-estimator-id-18\" type=\"checkbox\" ><label for=\"sk-estimator-id-18\" class=\"sk-toggleable__label sk-toggleable__label-arrow\">MLPClassifier</label><div class=\"sk-toggleable__content\"><pre>MLPClassifier(alpha=0.01, early_stopping=True, learning_rate_init=0.01,\n",
       "              max_iter=1000, random_state=42)</pre></div></div></div></div></div></div></div>"
      ],
      "text/plain": [
       "Pipeline(steps=[('standardscaler', StandardScaler()),\n",
       "                ('mlpclassifier',\n",
       "                 MLPClassifier(alpha=0.01, early_stopping=True,\n",
       "                               learning_rate_init=0.01, max_iter=1000,\n",
       "                               random_state=42))])"
      ]
     },
     "execution_count": 135,
     "metadata": {},
     "output_type": "execute_result"
    }
   ],
   "source": [
    "# Aplicar os melhores parâmetros ao pipeline\n",
    "\n",
    "mlp = make_pipeline(\n",
    "    StandardScaler(),\n",
    "    MLPClassifier(\n",
    "        activation='relu',\n",
    "        alpha=0.01,\n",
    "        hidden_layer_sizes=(100,),\n",
    "        solver='adam',\n",
    "        max_iter=1000,\n",
    "        random_state=42,\n",
    "        early_stopping=True,\n",
    "        learning_rate='constant',\n",
    "        learning_rate_init=0.01\n",
    "    )\n",
    ")\n",
    "\n",
    "# Treinar o modelo no conjunto completo de dados de treinamento\n",
    "mlp.fit(X_train, y_train)"
   ]
  },
  {
   "cell_type": "code",
   "execution_count": 136,
   "id": "c8e8b2b1-c5be-4219-ba0c-aeb3f4a90b16",
   "metadata": {
    "tags": []
   },
   "outputs": [
    {
     "data": {
      "text/plain": [
       "['mlp_model.pkl']"
      ]
     },
     "execution_count": 136,
     "metadata": {},
     "output_type": "execute_result"
    }
   ],
   "source": [
    "# Salvando o modelo\n",
    "dump(mlp, 'mlp_model.pkl')"
   ]
  },
  {
   "cell_type": "code",
   "execution_count": 137,
   "id": "7341c8ce-3472-46fc-87a6-7154f319f8d7",
   "metadata": {
    "tags": []
   },
   "outputs": [
    {
     "name": "stdout",
     "output_type": "stream",
     "text": [
      "Tempo de predição total do MLP: 0.3479990959 segundos\n",
      "Tempo de predição por amostra do MLP: 4.4376262707743046e-07 segundos\n"
     ]
    }
   ],
   "source": [
    "# Capturar o tempo de início de predição do MLP\n",
    "tempo_inicio = time.time()\n",
    "\n",
    "# Fazer previsões com a Máquinas do MLP\n",
    "y_pred_mlp = mlp.predict(X_test)\n",
    "\n",
    "# Capturar o tempo de término de predição do MLP\n",
    "tempo_fim = time.time()\n",
    "\n",
    "# Calcular o tempo de predição em segundos\n",
    "prediction_time = tempo_fim - tempo_inicio\n",
    "\n",
    "# Calcular o tempo de predição por amostra em segundos\n",
    "tempo_por_amostra = prediction_time / len(X_test)\n",
    "\n",
    "print(f\"Tempo de predição total do MLP: {prediction_time:.10f} segundos\")\n",
    "\n",
    "print(f\"Tempo de predição por amostra do MLP: {tempo_por_amostra} segundos\")"
   ]
  },
  {
   "cell_type": "code",
   "execution_count": 138,
   "id": "c572844d-eb2a-4030-964a-3236058a8769",
   "metadata": {
    "tags": []
   },
   "outputs": [
    {
     "name": "stdout",
     "output_type": "stream",
     "text": [
      "\n",
      "Máquinas de Vetores de Suporte:\n",
      "              precision    recall  f1-score   support\n",
      "\n",
      "      BENIGN       0.62      0.82      0.70       531\n",
      "   DrDoS_UDP       1.00      1.00      1.00    783670\n",
      "\n",
      "    accuracy                           1.00    784201\n",
      "   macro avg       0.81      0.91      0.85    784201\n",
      "weighted avg       1.00      1.00      1.00    784201\n",
      "\n",
      "[[   434     97]\n",
      " [   268 783402]]\n"
     ]
    }
   ],
   "source": [
    "# Avaliar o classificador\n",
    "\n",
    "print('')\n",
    "print('Máquinas de Vetores de Suporte:')\n",
    "print(classification_report(y_test, y_pred_mlp))\n",
    "print(confusion_matrix(y_test, y_pred_mlp))"
   ]
  },
  {
   "cell_type": "code",
   "execution_count": 139,
   "id": "d0b59fda-c9aa-49f0-9776-7c26541ac3bd",
   "metadata": {
    "tags": []
   },
   "outputs": [
    {
     "name": "stdout",
     "output_type": "stream",
     "text": [
      "\n",
      "Acurácia da Máquinas de Vetores de Suporte:\n",
      "0.9995345581043635\n"
     ]
    }
   ],
   "source": [
    "# Calcula a taxa de acerto\n",
    "\n",
    "mlp_accuracy = accuracy_score(y_test, y_pred_mlp)\n",
    "\n",
    "print('')\n",
    "print('Acurácia da Máquinas de Vetores de Suporte:')\n",
    "print(mlp_accuracy)"
   ]
  },
  {
   "cell_type": "code",
   "execution_count": 140,
   "id": "7f99b76e-eadd-4bfd-bc7c-de4572c68644",
   "metadata": {
    "tags": []
   },
   "outputs": [
    {
     "name": "stdout",
     "output_type": "stream",
     "text": [
      "Acurácia: 0.9995\n",
      "Precisão: 0.6182\n",
      "Recall: 0.8173\n",
      "F1-Score: 0.7040\n"
     ]
    }
   ],
   "source": [
    "# Avalia o desempenho do modelo\n",
    "\n",
    "mlp_precision = precision_score(y_test, y_pred_mlp, pos_label='BENIGN', average='binary')\n",
    "mlp_recall = recall_score(y_test, y_pred_mlp, pos_label='BENIGN', average='binary')\n",
    "mlp_f1 = f1_score(y_test, y_pred_mlp, pos_label='BENIGN', average='binary')\n",
    "\n",
    "print(f\"Acurácia: {mlp_accuracy:.4f}\")\n",
    "print(f\"Precisão: {mlp_precision:.4f}\")\n",
    "print(f\"Recall: {mlp_recall:.4f}\")\n",
    "print(f\"F1-Score: {mlp_f1:.4f}\")"
   ]
  },
  {
   "cell_type": "code",
   "execution_count": 141,
   "id": "82050714-e179-4d4c-8cba-40951b4a6016",
   "metadata": {
    "tags": []
   },
   "outputs": [
    {
     "data": {
      "image/png": "[encoded data removed]",
      "text/plain": [
       "<Figure size 1000x700 with 2 Axes>"
      ]
     },
     "metadata": {},
     "output_type": "display_data"
    }
   ],
   "source": [
    "# Matriz de confusão\n",
    "cm = confusion_matrix(y_test, y_pred_mlp)\n",
    "\n",
    "# Plot da matriz de confusão\n",
    "plt.figure(figsize=(10, 7))\n",
    "sns.heatmap(cm, annot=True, fmt='d', cmap='Blues', xticklabels=['Normal', 'Attack'], yticklabels=['Normal', 'Attack'])\n",
    "plt.xlabel('Predicted')\n",
    "plt.ylabel('True')\n",
    "plt.title('Confusion Matrix')\n",
    "plt.show()"
   ]
  }
 ],
 "metadata": {
  "kernelspec": {
   "display_name": "Python 3 (ipykernel)",
   "language": "python",
   "name": "python3"
  },
  "language_info": {
   "codemirror_mode": {
    "name": "ipython",
    "version": 3
   },
   "file_extension": ".py",
   "mimetype": "text/x-python",
   "name": "python",
   "nbconvert_exporter": "python",
   "pygments_lexer": "ipython3",
   "version": "3.11.7"
  }
 },
 "nbformat": 4,
 "nbformat_minor": 5
}
